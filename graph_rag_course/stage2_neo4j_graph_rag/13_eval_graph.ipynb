{
 "cells": [
  {
   "cell_type": "markdown",
   "metadata": {},
   "source": [
    "# Graph-RAG vs Vector-RAG Evaluation\n",
    "This notebook compares the answers and context length of **Stage 1** (vector-only) and **Stage 2** (Neo4j Graph-RAG).\n",
    "You need to run **11_ingest_graph.py** first so the Neo4j database is populated."
   ]
  },
  {
   "cell_type": "code",
   "execution_count": null,
   "metadata": {},
   "outputs": [],
   "source": [
    "import os, sys, json, math, textwrap, itertools\n",
    "from pathlib import Path\n",
    "from dotenv import load_dotenv\n",
    "load_dotenv()\n",
    "\n",
    "# Path helpers\n",
    "BASE = Path.cwd().parent  # stage2 folder\n",
    "STAGE1 = BASE.parent / 'stage1_vector_rag'\n",
    "sys.path.append(str(STAGE1))  # so we can import stage-1 modules\n",
    "\n",
    "from stage1_vector_rag.02_build_index import embeddings, INDEX_DIR, PINECONE_API_KEY  # re-use models\n",
    "from stage2_neo4j_graph_rag.12_graph_rag import retrieve as graph_retrieve, embed_model\n",
    "from stage1_vector_rag.03_langgraph_rag import top_k as vector_retrieve\n",
    "\n",
    "QUESTIONS = [\n",
    "    'When was Ada Lovelace born?',\n",
    "    'Which language did Guido van Rossum create?',\n",
    "    'Name two sub-fields related to artificial intelligence.'\n",
    "]"
   ]
  },
  {
   "cell_type": "markdown",
   "metadata": {},
   "source": [
    "## Compare retrieved context length"
   ]
  },
  {
   "cell_type": "code",
   "execution_count": null,
   "metadata": {},
   "outputs": [],
   "source": [
    "from collections import defaultdict, Counter\n",
    "\n",
    "def token_len(text):\n",
    "    return len(text.split())\n",
    "\n",
    "for q in QUESTIONS:\n",
    "    # vector only\n",
    "    v_hits = vector_retrieve(q, k=4)\n",
    "    v_context = '\\n'.join(src for src, _ in v_hits)\n",
    "    # graph\n",
    "    g_state = graph_retrieve({ 'question': q })\n",
    "    g_context = g_state['context']\n",
    "    \n",
    "    print('\n###', q)\n",
    "    print('Vector-RAG context words:', token_len(v_context))\n",
    "    print('Graph-RAG  context words:', token_len(g_context))"
   ]
  }
 ],
 "metadata": {
  "kernelspec": {
   "display_name": "Python 3", 
   "language": "python", 
   "name": "python3"
  },
  "language_info": {
   "name": "python", 
   "version": "3.10"
  }
 },
 "nbformat": 4,
 "nbformat_minor": 4
}
